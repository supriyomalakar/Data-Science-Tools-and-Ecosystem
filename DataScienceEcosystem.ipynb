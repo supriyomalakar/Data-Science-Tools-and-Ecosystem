{
 "cells": [
  {
   "cell_type": "code",
   "execution_count": null,
   "id": "4120e1df-3316-4d3f-a3f6-2a7c16f80df1",
   "metadata": {},
   "outputs": [],
   "source": [
    "#Create markdown cell with title of the notebook"
   ]
  },
  {
   "cell_type": "markdown",
   "id": "ad76e77c-a215-4d3d-9091-d78e1b5ddc51",
   "metadata": {},
   "source": [
    "# Data Science Tools and Ecosystem"
   ]
  },
  {
   "cell_type": "code",
   "execution_count": 2,
   "id": "97c1ad3a-301f-4ee7-be6b-0ec3e2aa103d",
   "metadata": {
    "tags": []
   },
   "outputs": [],
   "source": [
    "## Exercise 3 - Create a markdown cell for an introduction ##"
   ]
  },
  {
   "cell_type": "markdown",
   "id": "ce061319-9911-404e-a109-b6928036c324",
   "metadata": {},
   "source": [
    "**In this notebook, Data Science Tools and Ecosystem are summarized.**"
   ]
  },
  {
   "cell_type": "code",
   "execution_count": 5,
   "id": "1b22c84d-89d9-4730-a3c8-2f13d7cad533",
   "metadata": {
    "tags": []
   },
   "outputs": [],
   "source": [
    "## Exercise 4 - Create a markdown cell to list data science languages"
   ]
  },
  {
   "cell_type": "markdown",
   "id": "5df47259-fffa-4888-812f-f44df50cf069",
   "metadata": {},
   "source": [
    "**Some of the popular languages that Data Scientists use are:**"
   ]
  },
  {
   "cell_type": "markdown",
   "id": "9b05f9eb-0245-4fd9-a7db-3bdc680b7ce9",
   "metadata": {
    "tags": []
   },
   "source": [
    "1. Python\n",
    "2. R\n",
    "3. Scala\n",
    "4. Julia"
   ]
  },
  {
   "cell_type": "code",
   "execution_count": 7,
   "id": "4ec9804c-556d-410a-ac49-d161431909ec",
   "metadata": {
    "tags": []
   },
   "outputs": [],
   "source": [
    "## Exercise 5 - Create a markdown cell to list data science libraries"
   ]
  },
  {
   "cell_type": "markdown",
   "id": "c0f13bc2-0613-4715-8862-cedbdf546164",
   "metadata": {},
   "source": [
    "**Some of the commonly used libraries used by Data Scientists include:**"
   ]
  },
  {
   "cell_type": "markdown",
   "id": "634bf901-6032-4531-85e5-354be980750b",
   "metadata": {},
   "source": [
    "1. Matplotlib\n",
    "2. numpy\n",
    "3. panda"
   ]
  },
  {
   "cell_type": "code",
   "execution_count": null,
   "id": "b256e518-5577-4995-b6bc-92edab7dfd20",
   "metadata": {},
   "outputs": [],
   "source": [
    "## Exercise 6 - Create a markdown cell with a table of Data Science tools"
   ]
  },
  {
   "cell_type": "markdown",
   "id": "64775a86-5452-4b74-ac91-3bac7c9ec3e1",
   "metadata": {},
   "source": [
    "| Data Science Tools |\n",
    "| ------------------ |\n",
    "| Apache Spark |\n",
    "| Apache Hadoop |\n",
    "| Jupyter Notebook |"
   ]
  },
  {
   "cell_type": "code",
   "execution_count": null,
   "id": "14c6b708-54c2-4dde-90e7-50d7734093c7",
   "metadata": {},
   "outputs": [],
   "source": [
    "## Exercise 7 - Create a markdown cell introducing arithmetic expression examples"
   ]
  },
  {
   "cell_type": "markdown",
   "id": "8b578cc4-d17d-4e00-a2e5-ff844e75cd35",
   "metadata": {},
   "source": [
    "### Below are a few examples of evaluating arithmetic expressions in Python"
   ]
  },
  {
   "cell_type": "code",
   "execution_count": null,
   "id": "746fc5c5-d0a1-43f2-bfb6-b563b57a3ee9",
   "metadata": {},
   "outputs": [],
   "source": [
    "## Exercise 8 - Create a code cell to multiply and add numbers"
   ]
  },
  {
   "cell_type": "markdown",
   "id": "1c1d4348-5bdb-4836-a270-785dc6b968c0",
   "metadata": {},
   "source": [
    "### This a simple arithmetic expression to mutiply then add integers"
   ]
  },
  {
   "cell_type": "code",
   "execution_count": 8,
   "id": "6397b446-6196-4beb-8be7-5ad0b1698e30",
   "metadata": {
    "tags": []
   },
   "outputs": [
    {
     "data": {
      "text/plain": [
       "17"
      ]
     },
     "execution_count": 8,
     "metadata": {},
     "output_type": "execute_result"
    }
   ],
   "source": [
    "(3*4)+5"
   ]
  },
  {
   "cell_type": "code",
   "execution_count": 9,
   "id": "62e7898a-9616-44ab-8de1-7465d4b6cf6f",
   "metadata": {
    "tags": []
   },
   "outputs": [],
   "source": [
    "## Exercise 9 - Create a code cell to convert minutes to hours"
   ]
  },
  {
   "cell_type": "markdown",
   "id": "f8566f77-38d0-46b0-90e2-67119b8fe70d",
   "metadata": {},
   "source": [
    "### This will convert 200 minutes to hours by diving by 60"
   ]
  },
  {
   "cell_type": "code",
   "execution_count": 10,
   "id": "f354ba7d-1e70-4bda-81a8-1c17bd2a8d10",
   "metadata": {
    "tags": []
   },
   "outputs": [
    {
     "data": {
      "text/plain": [
       "3.3333333333333335"
      ]
     },
     "execution_count": 10,
     "metadata": {},
     "output_type": "execute_result"
    }
   ],
   "source": [
    "200/60"
   ]
  },
  {
   "cell_type": "code",
   "execution_count": 11,
   "id": "f37acdb2-707f-4ce7-8a00-b23b40348546",
   "metadata": {
    "tags": []
   },
   "outputs": [],
   "source": [
    "## Exercise 10 - Insert a markdown cell to list Objectives"
   ]
  },
  {
   "cell_type": "markdown",
   "id": "8da33d54-8fb1-44f4-99a2-1438f0108375",
   "metadata": {},
   "source": [
    "**In this notebook, Data Science Tools and Ecosystem are summarized.**"
   ]
  },
  {
   "cell_type": "markdown",
   "id": "b304dc81-6448-4756-8852-3c1ab1682f94",
   "metadata": {},
   "source": [
    "**Objectives**"
   ]
  },
  {
   "cell_type": "markdown",
   "id": "09ac1546-4f28-4dc7-86b4-e06cce578cef",
   "metadata": {},
   "source": [
    "- Scala \n",
    "- Julia\n",
    "- Python\n",
    "_ R"
   ]
  },
  {
   "cell_type": "code",
   "execution_count": null,
   "id": "ceb289a4-ac97-4a58-b819-a0b8d2761fb3",
   "metadata": {},
   "outputs": [],
   "source": [
    "## Exercise 11 - Create a markdown cell to indicate the Author's name"
   ]
  },
  {
   "cell_type": "markdown",
   "id": "f239e7c8-297d-468a-93e1-76bf973d4cb7",
   "metadata": {},
   "source": [
    "## Author"
   ]
  },
  {
   "cell_type": "markdown",
   "id": "8c4418a5-a68f-4e0d-a414-1e649e7ff7c6",
   "metadata": {},
   "source": [
    "Supriyo Malakar"
   ]
  },
  {
   "cell_type": "code",
   "execution_count": null,
   "id": "9bdb6c1c-cc13-4e78-b376-6e5684b66cd1",
   "metadata": {},
   "outputs": [],
   "source": []
  }
 ],
 "metadata": {
  "kernelspec": {
   "display_name": "Python",
   "language": "python",
   "name": "conda-env-python-py"
  },
  "language_info": {
   "codemirror_mode": {
    "name": "ipython",
    "version": 3
   },
   "file_extension": ".py",
   "mimetype": "text/x-python",
   "name": "python",
   "nbconvert_exporter": "python",
   "pygments_lexer": "ipython3",
   "version": "3.7.12"
  }
 },
 "nbformat": 4,
 "nbformat_minor": 5
}
